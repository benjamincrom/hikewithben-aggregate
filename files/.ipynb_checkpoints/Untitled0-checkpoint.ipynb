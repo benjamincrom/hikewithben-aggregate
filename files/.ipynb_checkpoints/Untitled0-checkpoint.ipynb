{
 "metadata": {
  "name": "",
  "signature": "sha256:763d29c3a571509136a27320a4c40fd6713a5226d0845903d8bec85040322025"
 },
 "nbformat": 3,
 "nbformat_minor": 0,
 "worksheets": []
}